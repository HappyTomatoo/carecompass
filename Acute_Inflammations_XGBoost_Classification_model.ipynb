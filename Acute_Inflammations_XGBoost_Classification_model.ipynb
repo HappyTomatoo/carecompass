{
 "cells": [
  {
   "cell_type": "markdown",
   "id": "f746abf4-155e-4311-a2bb-e0faca3edf2a",
   "metadata": {},
   "source": [
    "# Diagnosis of acute inflammation using XGBoost (classification)"
   ]
  },
  {
   "cell_type": "markdown",
   "id": "ac275a7e-c622-4d7b-9e32-f0dcf92f3b54",
   "metadata": {},
   "source": [
    "## Acute Inflammations in the urinary system\n",
    "The data was created by a medical expert as a data set to test the expert system, which will perform the presumptive diagnosis of two diseases of the urinary system."
   ]
  },
  {
   "cell_type": "code",
   "execution_count": 1,
   "id": "ce8210da-dd36-4ba6-bfe2-4491537edfef",
   "metadata": {},
   "outputs": [],
   "source": [
    "import numpy as np\n",
    "import logging\n",
    "from giza_actions.action import Action, action\n",
    "from giza_actions.task import task\n",
    "from sklearn import preprocessing\n",
    "import pandas as pd\n",
    "from sklearn.model_selection import train_test_split\n",
    "import xgboost as xgb\n",
    "from xgboost import XGBClassifier as XGBC, XGBRegressor as XGBR\n",
    "from sklearn.model_selection import train_test_split\n",
    "from sklearn.metrics import mean_squared_error as MSE\n",
    "import joblib\n",
    "import onnx\n",
    "from onnxmltools.convert import convert_xgboost\n",
    "from skl2onnx.common.data_types import FloatTensorType, DoubleTensorType\n"
   ]
  },
  {
   "cell_type": "markdown",
   "id": "699d764a-8405-4fe3-84e1-bbc1ddb132e6",
   "metadata": {},
   "source": [
    "## Collect datasets"
   ]
  },
  {
   "cell_type": "markdown",
   "id": "ef1b8901-a945-4f10-9a19-0972de0a47d3",
   "metadata": {},
   "source": [
    "We are looking for data related to the medical field. In the UCI dataset, we found data on two types of [acute inflammation](https://archive.ics.uci.edu/dataset/184/acute+inflammations) classifications. This dataset provides detailed information about these two types of inflammation, including patient temperature and symptoms. By analyzing this data, we hope to find patterns of inflammation and hope to construct verifiable medical care projects to help patients with symptoms diagnose in time.\r\n",
    "\r\n",
    "Through this work, we also hope to improve the diagnostic accuracy and speed of doctors for these two types of inflammation. We believe that through scientific data analysis methods, we can better understand the patterns of inflammation and provide more accurate predictions and more effective treatment plans."
   ]
  },
  {
   "cell_type": "markdown",
   "id": "e21b66de-ba40-45b3-9427-cea840d5ecc8",
   "metadata": {},
   "source": [
    "## Dataset Variable Information\n",
    " - a1\tTemperature of patient  { 35C-42C }\t\n",
    " - a2\tOccurrence of nausea  { yes, no }\t\n",
    " - a3\tLumbar pain  { yes, no }\t\n",
    " - a4\tUrine pushing (continuous need for urination)  { yes, no }\t\n",
    " - a5\tMicturition pains  { yes, no }\t\n",
    " - a6\tBurning of urethra, itch, swelling of urethra outlet  { yes, no }\t\n",
    " - d1\tdecision: Inflammation of urinary bladder  { yes, no }\t\n",
    " - d2\tdecision: Nephritis of renal pelvis origin { yes, no }\t"
   ]
  },
  {
   "cell_type": "markdown",
   "id": "01998fb8-3e6e-4428-897a-dfa28a824a1e",
   "metadata": {},
   "source": [
    "### Prepare datasets and create loaders"
   ]
  },
  {
   "cell_type": "code",
   "execution_count": 2,
   "id": "da425bb1-6074-468d-a5b6-63a36ad0a44d",
   "metadata": {},
   "outputs": [],
   "source": [
    "def parser_acute_inflammations(line: str) -> str:\n",
    "    line_list = line.replace('no', '0').replace('yes', '1').replace(\n",
    "        '\\n', '').replace(',', '.').split('\\t')\n",
    "    new_line_list = line_list[0:-2]\n",
    "    if line_list[-2] == '0':\n",
    "        if line_list[-1] == '0':\n",
    "            new_line_list.append('0')\n",
    "        else:\n",
    "            new_line_list.append('2')\n",
    "    else:\n",
    "        if line_list[-1] == '0':\n",
    "            new_line_list.append('1')\n",
    "        else:\n",
    "            new_line_list.append('3')\n",
    "    return '\\t'.join(new_line_list) + '\\n'\n",
    "\n",
    "def convert_list_line_to_str(line):\n",
    "    res = ''\n",
    "    for index, ele in enumerate(line):\n",
    "        if index == len(line) - 1:\n",
    "            res += str(ele) + '\\n'\n",
    "        else:\n",
    "            res += str(ele) + '\\t'\n",
    "    return res\n",
    "    \n",
    "def generater_column_normalization_info(nparray_data):\n",
    "    column_max = [\"max\"]\n",
    "    column_min = [\"min\"]\n",
    "    for column_index in range(len(nparray_data[0])):\n",
    "        column = nparray_data[:, column_index]\n",
    "        column_max.append(np.max(column))\n",
    "        column_min.append(np.min(column))\n",
    "\n",
    "    with open(\"column_normalization_info.tsv\", 'w+', encoding=\"utf-8\") as f:\n",
    "        f.writelines([convert_list_line_to_str(column_max), convert_list_line_to_str(column_min)])\n",
    "    \n",
    "    \n",
    "@task(name=f'Prepare Datasets')\n",
    "def prepare_datasets():\n",
    "    print(\"Prepare dataset...\")\n",
    "    dataset_path = \"data/diagnosis.data\"\n",
    "    with open(dataset_path, encoding=\"utf-16\") as f:\n",
    "        lines = f.readlines();\n",
    "        remove_index = []\n",
    "        for index, line in enumerate(lines):\n",
    "            line = parser_acute_inflammations(line)\n",
    "            if len(line):\n",
    "                lines[index] = [float(ele) for ele in line.replace('\\n', '').split('\\t')]\n",
    "            else:\n",
    "                remove_index.append(index)\n",
    "        # remove none line\n",
    "        for index in remove_index:\n",
    "            lines.remove(lines[index - index_offset])\n",
    "        x = [line[:-1] for line in lines]\n",
    "        y = [[int(line[-1])] for line in lines]\n",
    "        x = np.array(x)\n",
    "        generater_column_normalization_info(x)\n",
    "        min_max_scaler = preprocessing.MinMaxScaler(feature_range=(0, 1))\n",
    "        x = min_max_scaler.fit_transform(x)\n",
    "        combined_array = np.concatenate((x, y), axis=1)\n",
    "        print(\"✅ Datasets prepared successfully\")\n",
    "    \n",
    "        return x, y"
   ]
  },
  {
   "cell_type": "markdown",
   "id": "f83fa33a-9e91-47e4-a8ce-69febd717599",
   "metadata": {},
   "source": [
    "## XGBoost classification model training"
   ]
  },
  {
   "cell_type": "code",
   "execution_count": 3,
   "id": "6f79ec63-ad61-41d2-9043-a93186648e03",
   "metadata": {},
   "outputs": [],
   "source": [
    "@task(name=f'Training model')\n",
    "def get_model(x, y, model_type: str = \"classification\"):\n",
    "    # Divide the training set and test set\n",
    "    x_train, x_test, y_train, y_test = train_test_split(x, y, test_size=0.2)\n",
    "    from sklearn.preprocessing import LabelEncoder\n",
    "    le = LabelEncoder()\n",
    "    y_train = le.fit_transform(y_train)\n",
    "    XGBmodel = XGBC(n_estimators=10).fit(x_train, y_train)\n",
    "   \n",
    "    # Get Score\n",
    "    print(\"Score\", XGBmodel.score(x_test, y_test))\n",
    "    # Get Mean Square Error\n",
    "    print(\"Mean Square Error\", MSE(y_test, XGBmodel.predict(x_test)))\n",
    "    # Get feature importance\n",
    "    print(\"Feature importance\", XGBmodel.feature_importances_)\n",
    "\n",
    "    return XGBmodel"
   ]
  },
  {
   "cell_type": "markdown",
   "id": "c3320c2f-1a51-4251-9ab3-82ce0d0b4512",
   "metadata": {},
   "source": [
    "## Export XGBoost model to ONNX\n",
    "Use the `convert_xgboost` interface provided by sklearn to convert and export the model in ONNX format"
   ]
  },
  {
   "cell_type": "code",
   "execution_count": 4,
   "id": "f0d154f8-8c98-43d1-83e4-bab25597c38f",
   "metadata": {},
   "outputs": [],
   "source": [
    "@task(name=f'Export to ONNX')\n",
    "def onnx_export(model, filename, input_size = 6, target_opset =15):\n",
    "    # Export model as a ONNX\n",
    "    onnx_model_converted = convert_xgboost(XGBmodel, 'tree-based classifier',\n",
    "                             [('input', FloatTensorType([1, input_size]))],\n",
    "                             target_opset=target_opset)\n",
    "    onnx.save_model(onnx_model_converted, filename)"
   ]
  },
  {
   "cell_type": "markdown",
   "id": "e1995332-c399-4217-9d82-08e865b4242d",
   "metadata": {},
   "source": [
    "## Execution"
   ]
  },
  {
   "cell_type": "code",
   "execution_count": 5,
   "id": "d8730a2b-08e4-4048-b571-7f27831d97be",
   "metadata": {},
   "outputs": [
    {
     "data": {
      "text/html": [
       "<pre style=\"white-space:pre;overflow-x:auto;line-height:normal;font-family:Menlo,'DejaVu Sans Mono',consolas,'Courier New',monospace\">11:51:11.237 | <span style=\"color: #008080; text-decoration-color: #008080\">INFO</span>    | Created flow run<span style=\"color: #800080; text-decoration-color: #800080\"> 'stylish-cricket'</span> for flow<span style=\"color: #800080; text-decoration-color: #800080; font-weight: bold\"> 'Model Development'</span>\n",
       "</pre>\n"
      ],
      "text/plain": [
       "11:51:11.237 | \u001b[36mINFO\u001b[0m    | Created flow run\u001b[35m 'stylish-cricket'\u001b[0m for flow\u001b[1;35m 'Model Development'\u001b[0m\n"
      ]
     },
     "metadata": {},
     "output_type": "display_data"
    },
    {
     "data": {
      "text/html": [
       "<pre style=\"white-space:pre;overflow-x:auto;line-height:normal;font-family:Menlo,'DejaVu Sans Mono',consolas,'Courier New',monospace\">11:51:11.240 | <span style=\"color: #008080; text-decoration-color: #008080\">INFO</span>    | Action run 'stylish-cricket' - View at <span style=\"color: #0000ff; text-decoration-color: #0000ff\">https://actions-server-chao-dblzzhtf5q-ew.a.run.app/flow-runs/flow-run/95f25215-3436-4a3b-b3d2-390735ce3367</span>\n",
       "</pre>\n"
      ],
      "text/plain": [
       "11:51:11.240 | \u001b[36mINFO\u001b[0m    | Action run 'stylish-cricket' - View at \u001b[94mhttps://actions-server-chao-dblzzhtf5q-ew.a.run.app/flow-runs/flow-run/95f25215-3436-4a3b-b3d2-390735ce3367\u001b[0m\n"
      ]
     },
     "metadata": {},
     "output_type": "display_data"
    },
    {
     "data": {
      "text/html": [
       "<pre style=\"white-space:pre;overflow-x:auto;line-height:normal;font-family:Menlo,'DejaVu Sans Mono',consolas,'Courier New',monospace\">11:51:12.422 | <span style=\"color: #008080; text-decoration-color: #008080\">INFO</span>    | Action run 'stylish-cricket' - Created task run 'Prepare Datasets-0' for task 'Prepare Datasets'\n",
       "</pre>\n"
      ],
      "text/plain": [
       "11:51:12.422 | \u001b[36mINFO\u001b[0m    | Action run 'stylish-cricket' - Created task run 'Prepare Datasets-0' for task 'Prepare Datasets'\n"
      ]
     },
     "metadata": {},
     "output_type": "display_data"
    },
    {
     "data": {
      "text/html": [
       "<pre style=\"white-space:pre;overflow-x:auto;line-height:normal;font-family:Menlo,'DejaVu Sans Mono',consolas,'Courier New',monospace\">11:51:12.425 | <span style=\"color: #008080; text-decoration-color: #008080\">INFO</span>    | Action run 'stylish-cricket' - Executing 'Prepare Datasets-0' immediately...\n",
       "</pre>\n"
      ],
      "text/plain": [
       "11:51:12.425 | \u001b[36mINFO\u001b[0m    | Action run 'stylish-cricket' - Executing 'Prepare Datasets-0' immediately...\n"
      ]
     },
     "metadata": {},
     "output_type": "display_data"
    },
    {
     "data": {
      "text/html": [
       "<pre style=\"white-space:pre;overflow-x:auto;line-height:normal;font-family:Menlo,'DejaVu Sans Mono',consolas,'Courier New',monospace\">11:51:14.058 | <span style=\"color: #008080; text-decoration-color: #008080\">INFO</span>    | Task run 'Prepare Datasets-0' - Prepare dataset...\n",
       "</pre>\n"
      ],
      "text/plain": [
       "11:51:14.058 | \u001b[36mINFO\u001b[0m    | Task run 'Prepare Datasets-0' - Prepare dataset...\n"
      ]
     },
     "metadata": {},
     "output_type": "display_data"
    },
    {
     "data": {
      "text/html": [
       "<pre style=\"white-space:pre;overflow-x:auto;line-height:normal;font-family:Menlo,'DejaVu Sans Mono',consolas,'Courier New',monospace\">11:51:14.074 | <span style=\"color: #008080; text-decoration-color: #008080\">INFO</span>    | Task run 'Prepare Datasets-0' - ✅ Datasets prepared successfully\n",
       "</pre>\n"
      ],
      "text/plain": [
       "11:51:14.074 | \u001b[36mINFO\u001b[0m    | Task run 'Prepare Datasets-0' - ✅ Datasets prepared successfully\n"
      ]
     },
     "metadata": {},
     "output_type": "display_data"
    },
    {
     "data": {
      "text/html": [
       "<pre style=\"white-space:pre;overflow-x:auto;line-height:normal;font-family:Menlo,'DejaVu Sans Mono',consolas,'Courier New',monospace\">11:51:14.504 | <span style=\"color: #008080; text-decoration-color: #008080\">INFO</span>    | Task run 'Prepare Datasets-0' - Finished in state <span style=\"color: #008000; text-decoration-color: #008000\">Completed</span>()\n",
       "</pre>\n"
      ],
      "text/plain": [
       "11:51:14.504 | \u001b[36mINFO\u001b[0m    | Task run 'Prepare Datasets-0' - Finished in state \u001b[32mCompleted\u001b[0m()\n"
      ]
     },
     "metadata": {},
     "output_type": "display_data"
    },
    {
     "data": {
      "text/html": [
       "<pre style=\"white-space:pre;overflow-x:auto;line-height:normal;font-family:Menlo,'DejaVu Sans Mono',consolas,'Courier New',monospace\">11:51:14.506 | <span style=\"color: #d7d700; text-decoration-color: #d7d700\">WARNING</span> | Task run 'Prepare Datasets-0' - Task run 'Prepare Datasets-0' finished in state <span style=\"color: #008000; text-decoration-color: #008000\">Completed</span>()\n",
       "</pre>\n"
      ],
      "text/plain": [
       "11:51:14.506 | \u001b[38;5;184mWARNING\u001b[0m | Task run 'Prepare Datasets-0' - Task run 'Prepare Datasets-0' finished in state \u001b[32mCompleted\u001b[0m()\n"
      ]
     },
     "metadata": {},
     "output_type": "display_data"
    },
    {
     "data": {
      "text/html": [
       "<pre style=\"white-space:pre;overflow-x:auto;line-height:normal;font-family:Menlo,'DejaVu Sans Mono',consolas,'Courier New',monospace\">11:51:14.888 | <span style=\"color: #008080; text-decoration-color: #008080\">INFO</span>    | Action run 'stylish-cricket' - Created task run 'Training model-0' for task 'Training model'\n",
       "</pre>\n"
      ],
      "text/plain": [
       "11:51:14.888 | \u001b[36mINFO\u001b[0m    | Action run 'stylish-cricket' - Created task run 'Training model-0' for task 'Training model'\n"
      ]
     },
     "metadata": {},
     "output_type": "display_data"
    },
    {
     "data": {
      "text/html": [
       "<pre style=\"white-space:pre;overflow-x:auto;line-height:normal;font-family:Menlo,'DejaVu Sans Mono',consolas,'Courier New',monospace\">11:51:14.891 | <span style=\"color: #008080; text-decoration-color: #008080\">INFO</span>    | Action run 'stylish-cricket' - Executing 'Training model-0' immediately...\n",
       "</pre>\n"
      ],
      "text/plain": [
       "11:51:14.891 | \u001b[36mINFO\u001b[0m    | Action run 'stylish-cricket' - Executing 'Training model-0' immediately...\n"
      ]
     },
     "metadata": {},
     "output_type": "display_data"
    },
    {
     "name": "stderr",
     "output_type": "stream",
     "text": [
      "/home/zhangzc/miniconda3/envs/giza/lib/python3.11/site-packages/sklearn/preprocessing/_label.py:116: DataConversionWarning: A column-vector y was passed when a 1d array was expected. Please change the shape of y to (n_samples, ), for example using ravel().\n",
      "  y = column_or_1d(y, warn=True)\n"
     ]
    },
    {
     "data": {
      "text/html": [
       "<pre style=\"white-space:pre;overflow-x:auto;line-height:normal;font-family:Menlo,'DejaVu Sans Mono',consolas,'Courier New',monospace\">11:51:15.913 | <span style=\"color: #008080; text-decoration-color: #008080\">INFO</span>    | Task run 'Training model-0' - Score 1.0\n",
       "</pre>\n"
      ],
      "text/plain": [
       "11:51:15.913 | \u001b[36mINFO\u001b[0m    | Task run 'Training model-0' - Score 1.0\n"
      ]
     },
     "metadata": {},
     "output_type": "display_data"
    },
    {
     "data": {
      "text/html": [
       "<pre style=\"white-space:pre;overflow-x:auto;line-height:normal;font-family:Menlo,'DejaVu Sans Mono',consolas,'Courier New',monospace\">11:51:15.919 | <span style=\"color: #008080; text-decoration-color: #008080\">INFO</span>    | Task run 'Training model-0' - Mean Square Error 0.0\n",
       "</pre>\n"
      ],
      "text/plain": [
       "11:51:15.919 | \u001b[36mINFO\u001b[0m    | Task run 'Training model-0' - Mean Square Error 0.0\n"
      ]
     },
     "metadata": {},
     "output_type": "display_data"
    },
    {
     "data": {
      "text/html": [
       "<pre style=\"white-space:pre;overflow-x:auto;line-height:normal;font-family:Menlo,'DejaVu Sans Mono',consolas,'Courier New',monospace\">11:51:15.925 | <span style=\"color: #008080; text-decoration-color: #008080\">INFO</span>    | Task run 'Training model-0' - Feature importance [0.1543075  0.2154693  0.3422092  0.28021374 0.00489712 0.00290308]\n",
       "</pre>\n"
      ],
      "text/plain": [
       "11:51:15.925 | \u001b[36mINFO\u001b[0m    | Task run 'Training model-0' - Feature importance [0.1543075  0.2154693  0.3422092  0.28021374 0.00489712 0.00290308]\n"
      ]
     },
     "metadata": {},
     "output_type": "display_data"
    },
    {
     "data": {
      "text/html": [
       "<pre style=\"white-space:pre;overflow-x:auto;line-height:normal;font-family:Menlo,'DejaVu Sans Mono',consolas,'Courier New',monospace\">11:51:16.339 | <span style=\"color: #008080; text-decoration-color: #008080\">INFO</span>    | Task run 'Training model-0' - Finished in state <span style=\"color: #008000; text-decoration-color: #008000\">Completed</span>()\n",
       "</pre>\n"
      ],
      "text/plain": [
       "11:51:16.339 | \u001b[36mINFO\u001b[0m    | Task run 'Training model-0' - Finished in state \u001b[32mCompleted\u001b[0m()\n"
      ]
     },
     "metadata": {},
     "output_type": "display_data"
    },
    {
     "data": {
      "text/html": [
       "<pre style=\"white-space:pre;overflow-x:auto;line-height:normal;font-family:Menlo,'DejaVu Sans Mono',consolas,'Courier New',monospace\">11:51:16.343 | <span style=\"color: #d7d700; text-decoration-color: #d7d700\">WARNING</span> | Task run 'Training model-0' - Task run 'Training model-0' finished in state <span style=\"color: #008000; text-decoration-color: #008000\">Completed</span>()\n",
       "</pre>\n"
      ],
      "text/plain": [
       "11:51:16.343 | \u001b[38;5;184mWARNING\u001b[0m | Task run 'Training model-0' - Task run 'Training model-0' finished in state \u001b[32mCompleted\u001b[0m()\n"
      ]
     },
     "metadata": {},
     "output_type": "display_data"
    },
    {
     "data": {
      "text/html": [
       "<pre style=\"white-space:pre;overflow-x:auto;line-height:normal;font-family:Menlo,'DejaVu Sans Mono',consolas,'Courier New',monospace\">11:51:16.695 | <span style=\"color: #008080; text-decoration-color: #008080\">INFO</span>    | Action run 'stylish-cricket' - Created task run 'Export to ONNX-0' for task 'Export to ONNX'\n",
       "</pre>\n"
      ],
      "text/plain": [
       "11:51:16.695 | \u001b[36mINFO\u001b[0m    | Action run 'stylish-cricket' - Created task run 'Export to ONNX-0' for task 'Export to ONNX'\n"
      ]
     },
     "metadata": {},
     "output_type": "display_data"
    },
    {
     "data": {
      "text/html": [
       "<pre style=\"white-space:pre;overflow-x:auto;line-height:normal;font-family:Menlo,'DejaVu Sans Mono',consolas,'Courier New',monospace\">11:51:16.699 | <span style=\"color: #008080; text-decoration-color: #008080\">INFO</span>    | Action run 'stylish-cricket' - Executing 'Export to ONNX-0' immediately...\n",
       "</pre>\n"
      ],
      "text/plain": [
       "11:51:16.699 | \u001b[36mINFO\u001b[0m    | Action run 'stylish-cricket' - Executing 'Export to ONNX-0' immediately...\n"
      ]
     },
     "metadata": {},
     "output_type": "display_data"
    },
    {
     "data": {
      "text/html": [
       "<pre style=\"white-space:pre;overflow-x:auto;line-height:normal;font-family:Menlo,'DejaVu Sans Mono',consolas,'Courier New',monospace\">11:51:17.373 | <span style=\"color: #008080; text-decoration-color: #008080\">INFO</span>    | Task run 'Export to ONNX-0' - name 'XGBmodel' is not defined\n",
       "</pre>\n"
      ],
      "text/plain": [
       "11:51:17.373 | \u001b[36mINFO\u001b[0m    | Task run 'Export to ONNX-0' - name 'XGBmodel' is not defined\n"
      ]
     },
     "metadata": {},
     "output_type": "display_data"
    },
    {
     "data": {
      "text/html": [
       "<pre style=\"white-space:pre;overflow-x:auto;line-height:normal;font-family:Menlo,'DejaVu Sans Mono',consolas,'Courier New',monospace\">11:51:17.726 | <span style=\"color: #008080; text-decoration-color: #008080\">INFO</span>    | Task run 'Export to ONNX-0' - Finished in state <span style=\"color: #008000; text-decoration-color: #008000\">Completed</span>()\n",
       "</pre>\n"
      ],
      "text/plain": [
       "11:51:17.726 | \u001b[36mINFO\u001b[0m    | Task run 'Export to ONNX-0' - Finished in state \u001b[32mCompleted\u001b[0m()\n"
      ]
     },
     "metadata": {},
     "output_type": "display_data"
    },
    {
     "data": {
      "text/html": [
       "<pre style=\"white-space:pre;overflow-x:auto;line-height:normal;font-family:Menlo,'DejaVu Sans Mono',consolas,'Courier New',monospace\">11:51:17.729 | <span style=\"color: #d7d700; text-decoration-color: #d7d700\">WARNING</span> | Task run 'Export to ONNX-0' - Task run 'Export to ONNX-0' finished in state <span style=\"color: #008000; text-decoration-color: #008000\">Completed</span>()\n",
       "</pre>\n"
      ],
      "text/plain": [
       "11:51:17.729 | \u001b[38;5;184mWARNING\u001b[0m | Task run 'Export to ONNX-0' - Task run 'Export to ONNX-0' finished in state \u001b[32mCompleted\u001b[0m()\n"
      ]
     },
     "metadata": {},
     "output_type": "display_data"
    },
    {
     "data": {
      "text/html": [
       "<pre style=\"white-space:pre;overflow-x:auto;line-height:normal;font-family:Menlo,'DejaVu Sans Mono',consolas,'Courier New',monospace\">11:51:18.093 | <span style=\"color: #008080; text-decoration-color: #008080\">INFO</span>    | Action run 'stylish-cricket' - Finished in state <span style=\"color: #008000; text-decoration-color: #008000\">Completed</span>('All states completed.')\n",
       "</pre>\n"
      ],
      "text/plain": [
       "11:51:18.093 | \u001b[36mINFO\u001b[0m    | Action run 'stylish-cricket' - Finished in state \u001b[32mCompleted\u001b[0m('All states completed.')\n"
      ]
     },
     "metadata": {},
     "output_type": "display_data"
    },
    {
     "data": {
      "text/plain": [
       "[Completed(message=None, type=COMPLETED, result=UnpersistedResult(type='unpersisted', artifact_type='result', artifact_description='Unpersisted result of type `tuple`')),\n",
       " Completed(message=None, type=COMPLETED, result=UnpersistedResult(type='unpersisted', artifact_type='result', artifact_description='Unpersisted result of type `XGBClassifier`')),\n",
       " Completed(message=None, type=COMPLETED, result=UnpersistedResult(type='unpersisted', artifact_type='result', artifact_description='Unpersisted result of type `NoneType`'))]"
      ]
     },
     "execution_count": 5,
     "metadata": {},
     "output_type": "execute_result"
    }
   ],
   "source": [
    "@action(name=f'Model Development', log_prints=True )\n",
    "def develop_model():\n",
    "    x, y = prepare_datasets()\n",
    "    XGBmodel = get_model(x, y)\n",
    "\n",
    "    # Convert to ONNX\n",
    "    onnx_export(XGBmodel, \"acute_inflammation_xgboost.onnx\", 6, 15)\n",
    "    \n",
    "develop_model()"
   ]
  },
  {
   "cell_type": "code",
   "execution_count": 6,
   "id": "4ff54967-65f1-4342-8e38-9408b18bb42e",
   "metadata": {},
   "outputs": [],
   "source": [
    "# # Error execution\n",
    "# if __name__ == \"__main__\":\n",
    "#     action_deploy = Action(entrypoint=develop_model, name=\"acute_inflammation_xgboost_action\")\n",
    "#     action_deploy.serve(name=\"acute_inflammation_xgboost_deployment\")"
   ]
  }
 ],
 "metadata": {
  "kernelspec": {
   "display_name": "Python 3 (ipykernel)",
   "language": "python",
   "name": "python3"
  },
  "language_info": {
   "codemirror_mode": {
    "name": "ipython",
    "version": 3
   },
   "file_extension": ".py",
   "mimetype": "text/x-python",
   "name": "python",
   "nbconvert_exporter": "python",
   "pygments_lexer": "ipython3",
   "version": "3.11.5"
  }
 },
 "nbformat": 4,
 "nbformat_minor": 5
}
