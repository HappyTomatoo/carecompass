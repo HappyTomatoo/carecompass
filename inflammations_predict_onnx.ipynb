{
 "cells": [
  {
   "cell_type": "markdown",
   "id": "a244c81f-249b-4f2c-b5fb-a37b9905efb0",
   "metadata": {},
   "source": [
    "# Predict inflammations data in GizaModel"
   ]
  },
  {
   "cell_type": "code",
   "execution_count": 1,
   "id": "73326665-fccd-4a04-8d73-507a12d75443",
   "metadata": {},
   "outputs": [],
   "source": [
    "from giza_actions.model import GizaModel\n",
    "from sklearn import preprocessing\n",
    "from giza_actions.task import task\n",
    "from giza_actions.action import Action, action\n",
    "import numpy as np\n",
    "\n",
    "\n",
    "MODEL_ID = 340  # Model ID 325 340\n",
    "VERSION_ID = 5  # Version ID\n",
    "\n",
    "prediction_result_dict = {0:'Normal', \n",
    "                          1:'Inflammation of urinary bladder', \n",
    "                          2:'Nephritis of renal pelvis origin', \n",
    "                          3:'Inflammation of urinary bladder and Nephritis of renal pelvis origin'\n",
    "                         }\n"
   ]
  },
  {
   "cell_type": "markdown",
   "id": "662aaab9-c90e-4d0e-b8f4-00942a851733",
   "metadata": {},
   "source": [
    "## Input data preprocess"
   ]
  },
  {
   "cell_type": "code",
   "execution_count": 2,
   "id": "0b47aa90-cda0-45ce-89d3-d6a2c968e3c4",
   "metadata": {},
   "outputs": [],
   "source": [
    "def parser_acute_inflammations(line: str) -> str:\n",
    "    line_list = line.replace('no', '0').replace('yes', '1').replace(\n",
    "        '\\n', '').replace(',', '.').split('\\t')\n",
    "    \n",
    "    return '\\t'.join(line_list)\n",
    "\n",
    "@task(name=f'Preprocess input')\n",
    "def preprocess_input(origin_input: str):\n",
    "    preprocess_input = []\n",
    "    # preprocess data\n",
    "    origin_input = parser_acute_inflammations(origin_input)\n",
    "    \n",
    "    # normalization 0-1\n",
    "    with open(\"column_normalization_info.tsv\", 'r') as f:\n",
    "        column_max_and_min = [line.replace('\\n', '').split('\\t')[1:] for line in f.readlines()]\n",
    "        for index in range(len(column_max_and_min[0])):\n",
    "            train_max = float(column_max_and_min[0][index])\n",
    "            train_min = float(column_max_and_min[1][index])\n",
    "            prediction_data = float(origin_input.split('\\t')[index])\n",
    "            normalized_prediction = (prediction_data - train_min) / (train_max - train_min)\n",
    "            preprocess_input.append(normalized_prediction) \n",
    "    \n",
    "    return preprocess_input "
   ]
  },
  {
   "cell_type": "markdown",
   "id": "beb7ca1c-6e7b-423e-9176-1fbc51a607e2",
   "metadata": {},
   "source": [
    "## Execute prediction in GizaModel"
   ]
  },
  {
   "cell_type": "code",
   "execution_count": 3,
   "id": "cae4a9ef-16bf-4868-a25f-f0a6214d3bdf",
   "metadata": {},
   "outputs": [],
   "source": [
    "\n",
    "@task(name=f'Prediction with ONNX')\n",
    "def prediction(input, model_id, version_id):\n",
    "    XGBoost_model = GizaModel(id=model_id, version=version_id)\n",
    "    # XGBoost_model = GizaModel(model_path = \"./acute_inflammation.onnx\")\n",
    "    input = np.array([input])\n",
    "    (result, result_probs) = XGBoost_model.predict(input_feed = {\"input\": input}, verifiable=False, output_dtype=\"(Span<u32>, Tensor<FP16x16>)\")\n",
    "    print(result, input)\n",
    "    return result, result_probs\n"
   ]
  },
  {
   "cell_type": "markdown",
   "id": "c93db7eb-8daf-410f-9990-ddb8e13ae2c8",
   "metadata": {},
   "source": [
    "## Execution\n",
    "Execute prediction with ONNX"
   ]
  },
  {
   "cell_type": "code",
   "execution_count": 4,
   "id": "cbf0f74e-96e2-4956-877b-9a175536c46d",
   "metadata": {},
   "outputs": [
    {
     "data": {
      "text/html": [
       "<pre style=\"white-space:pre;overflow-x:auto;line-height:normal;font-family:Menlo,'DejaVu Sans Mono',consolas,'Courier New',monospace\">22:14:56.876 | <span style=\"color: #008080; text-decoration-color: #008080\">INFO</span>    | Created flow run<span style=\"color: #800080; text-decoration-color: #800080\"> 'important-zebu'</span> for flow<span style=\"color: #800080; text-decoration-color: #800080; font-weight: bold\"> 'Execution: Prediction with ONNX'</span>\n",
       "</pre>\n"
      ],
      "text/plain": [
       "22:14:56.876 | \u001b[36mINFO\u001b[0m    | Created flow run\u001b[35m 'important-zebu'\u001b[0m for flow\u001b[1;35m 'Execution: Prediction with ONNX'\u001b[0m\n"
      ]
     },
     "metadata": {},
     "output_type": "display_data"
    },
    {
     "data": {
      "text/html": [
       "<pre style=\"white-space:pre;overflow-x:auto;line-height:normal;font-family:Menlo,'DejaVu Sans Mono',consolas,'Courier New',monospace\">22:14:56.879 | <span style=\"color: #008080; text-decoration-color: #008080\">INFO</span>    | Action run 'important-zebu' - View at <span style=\"color: #0000ff; text-decoration-color: #0000ff\">https://actions-server-chao-dblzzhtf5q-ew.a.run.app/flow-runs/flow-run/96df61b2-a71a-459a-b311-1a905873cc2f</span>\n",
       "</pre>\n"
      ],
      "text/plain": [
       "22:14:56.879 | \u001b[36mINFO\u001b[0m    | Action run 'important-zebu' - View at \u001b[94mhttps://actions-server-chao-dblzzhtf5q-ew.a.run.app/flow-runs/flow-run/96df61b2-a71a-459a-b311-1a905873cc2f\u001b[0m\n"
      ]
     },
     "metadata": {},
     "output_type": "display_data"
    },
    {
     "data": {
      "text/html": [
       "<pre style=\"white-space:pre;overflow-x:auto;line-height:normal;font-family:Menlo,'DejaVu Sans Mono',consolas,'Courier New',monospace\">22:14:59.036 | <span style=\"color: #008080; text-decoration-color: #008080\">INFO</span>    | Action run 'important-zebu' - Created task run 'Preprocess input-0' for task 'Preprocess input'\n",
       "</pre>\n"
      ],
      "text/plain": [
       "22:14:59.036 | \u001b[36mINFO\u001b[0m    | Action run 'important-zebu' - Created task run 'Preprocess input-0' for task 'Preprocess input'\n"
      ]
     },
     "metadata": {},
     "output_type": "display_data"
    },
    {
     "data": {
      "text/html": [
       "<pre style=\"white-space:pre;overflow-x:auto;line-height:normal;font-family:Menlo,'DejaVu Sans Mono',consolas,'Courier New',monospace\">22:14:59.038 | <span style=\"color: #008080; text-decoration-color: #008080\">INFO</span>    | Action run 'important-zebu' - Executing 'Preprocess input-0' immediately...\n",
       "</pre>\n"
      ],
      "text/plain": [
       "22:14:59.038 | \u001b[36mINFO\u001b[0m    | Action run 'important-zebu' - Executing 'Preprocess input-0' immediately...\n"
      ]
     },
     "metadata": {},
     "output_type": "display_data"
    },
    {
     "data": {
      "text/html": [
       "<pre style=\"white-space:pre;overflow-x:auto;line-height:normal;font-family:Menlo,'DejaVu Sans Mono',consolas,'Courier New',monospace\">22:15:00.871 | <span style=\"color: #008080; text-decoration-color: #008080\">INFO</span>    | Task run 'Preprocess input-0' - Finished in state <span style=\"color: #008000; text-decoration-color: #008000\">Completed</span>()\n",
       "</pre>\n"
      ],
      "text/plain": [
       "22:15:00.871 | \u001b[36mINFO\u001b[0m    | Task run 'Preprocess input-0' - Finished in state \u001b[32mCompleted\u001b[0m()\n"
      ]
     },
     "metadata": {},
     "output_type": "display_data"
    },
    {
     "data": {
      "text/html": [
       "<pre style=\"white-space:pre;overflow-x:auto;line-height:normal;font-family:Menlo,'DejaVu Sans Mono',consolas,'Courier New',monospace\">22:15:00.873 | <span style=\"color: #d7d700; text-decoration-color: #d7d700\">WARNING</span> | Task run 'Preprocess input-0' - Task run 'Preprocess input-0' finished in state <span style=\"color: #008000; text-decoration-color: #008000\">Completed</span>()\n",
       "</pre>\n"
      ],
      "text/plain": [
       "22:15:00.873 | \u001b[38;5;184mWARNING\u001b[0m | Task run 'Preprocess input-0' - Task run 'Preprocess input-0' finished in state \u001b[32mCompleted\u001b[0m()\n"
      ]
     },
     "metadata": {},
     "output_type": "display_data"
    },
    {
     "data": {
      "text/html": [
       "<pre style=\"white-space:pre;overflow-x:auto;line-height:normal;font-family:Menlo,'DejaVu Sans Mono',consolas,'Courier New',monospace\">22:15:00.875 | <span style=\"color: #008080; text-decoration-color: #008080\">INFO</span>    | Action run 'important-zebu' - prep_input [0.18333333333333357, 0.0, 0.0, 1.0, 1.0, 1.0]\n",
       "</pre>\n"
      ],
      "text/plain": [
       "22:15:00.875 | \u001b[36mINFO\u001b[0m    | Action run 'important-zebu' - prep_input [0.18333333333333357, 0.0, 0.0, 1.0, 1.0, 1.0]\n"
      ]
     },
     "metadata": {},
     "output_type": "display_data"
    },
    {
     "data": {
      "text/html": [
       "<pre style=\"white-space:pre;overflow-x:auto;line-height:normal;font-family:Menlo,'DejaVu Sans Mono',consolas,'Courier New',monospace\">22:15:01.570 | <span style=\"color: #008080; text-decoration-color: #008080\">INFO</span>    | Action run 'important-zebu' - Created task run 'Prediction with ONNX-0' for task 'Prediction with ONNX'\n",
       "</pre>\n"
      ],
      "text/plain": [
       "22:15:01.570 | \u001b[36mINFO\u001b[0m    | Action run 'important-zebu' - Created task run 'Prediction with ONNX-0' for task 'Prediction with ONNX'\n"
      ]
     },
     "metadata": {},
     "output_type": "display_data"
    },
    {
     "data": {
      "text/html": [
       "<pre style=\"white-space:pre;overflow-x:auto;line-height:normal;font-family:Menlo,'DejaVu Sans Mono',consolas,'Courier New',monospace\">22:15:01.572 | <span style=\"color: #008080; text-decoration-color: #008080\">INFO</span>    | Action run 'important-zebu' - Executing 'Prediction with ONNX-0' immediately...\n",
       "</pre>\n"
      ],
      "text/plain": [
       "22:15:01.572 | \u001b[36mINFO\u001b[0m    | Action run 'important-zebu' - Executing 'Prediction with ONNX-0' immediately...\n"
      ]
     },
     "metadata": {},
     "output_type": "display_data"
    },
    {
     "data": {
      "text/html": [
       "<pre style=\"white-space:pre;overflow-x:auto;line-height:normal;font-family:Menlo,'DejaVu Sans Mono',consolas,'Courier New',monospace\">22:15:04.355 | <span style=\"color: #d70000; text-decoration-color: #d70000\">ERROR</span>   | An error occurred in predict: Session is not initialized.\n",
       "</pre>\n"
      ],
      "text/plain": [
       "22:15:04.355 | \u001b[38;5;160mERROR\u001b[0m   | An error occurred in predict: Session is not initialized.\n"
      ]
     },
     "metadata": {},
     "output_type": "display_data"
    },
    {
     "data": {
      "text/html": [
       "<pre style=\"white-space:pre;overflow-x:auto;line-height:normal;font-family:Menlo,'DejaVu Sans Mono',consolas,'Courier New',monospace\">22:15:04.356 | <span style=\"color: #008080; text-decoration-color: #008080\">INFO</span>    | Task run 'Prediction with ONNX-0' - None [[0.18333333 0.         0.         1.         1.         1.        ]]\n",
       "</pre>\n"
      ],
      "text/plain": [
       "22:15:04.356 | \u001b[36mINFO\u001b[0m    | Task run 'Prediction with ONNX-0' - None [[0.18333333 0.         0.         1.         1.         1.        ]]\n"
      ]
     },
     "metadata": {},
     "output_type": "display_data"
    },
    {
     "data": {
      "text/html": [
       "<pre style=\"white-space:pre;overflow-x:auto;line-height:normal;font-family:Menlo,'DejaVu Sans Mono',consolas,'Courier New',monospace\">22:15:04.875 | <span style=\"color: #008080; text-decoration-color: #008080\">INFO</span>    | Task run 'Prediction with ONNX-0' - Finished in state <span style=\"color: #008000; text-decoration-color: #008000\">Completed</span>()\n",
       "</pre>\n"
      ],
      "text/plain": [
       "22:15:04.875 | \u001b[36mINFO\u001b[0m    | Task run 'Prediction with ONNX-0' - Finished in state \u001b[32mCompleted\u001b[0m()\n"
      ]
     },
     "metadata": {},
     "output_type": "display_data"
    },
    {
     "data": {
      "text/html": [
       "<pre style=\"white-space:pre;overflow-x:auto;line-height:normal;font-family:Menlo,'DejaVu Sans Mono',consolas,'Courier New',monospace\">22:15:04.876 | <span style=\"color: #d7d700; text-decoration-color: #d7d700\">WARNING</span> | Task run 'Prediction with ONNX-0' - Task run 'Prediction with ONNX-0' finished in state <span style=\"color: #008000; text-decoration-color: #008000\">Completed</span>()\n",
       "</pre>\n"
      ],
      "text/plain": [
       "22:15:04.876 | \u001b[38;5;184mWARNING\u001b[0m | Task run 'Prediction with ONNX-0' - Task run 'Prediction with ONNX-0' finished in state \u001b[32mCompleted\u001b[0m()\n"
      ]
     },
     "metadata": {},
     "output_type": "display_data"
    },
    {
     "data": {
      "text/html": [
       "<pre style=\"white-space:pre;overflow-x:auto;line-height:normal;font-family:Menlo,'DejaVu Sans Mono',consolas,'Courier New',monospace\">22:15:04.879 | <span style=\"color: #008080; text-decoration-color: #008080\">INFO</span>    | Action run 'important-zebu' - Prediction output: None None\n",
       "</pre>\n"
      ],
      "text/plain": [
       "22:15:04.879 | \u001b[36mINFO\u001b[0m    | Action run 'important-zebu' - Prediction output: None None\n"
      ]
     },
     "metadata": {},
     "output_type": "display_data"
    },
    {
     "data": {
      "text/html": [
       "<pre style=\"white-space:pre;overflow-x:auto;line-height:normal;font-family:Menlo,'DejaVu Sans Mono',consolas,'Courier New',monospace\">22:15:05.358 | <span style=\"color: #008080; text-decoration-color: #008080\">INFO</span>    | Action run 'important-zebu' - Finished in state <span style=\"color: #008000; text-decoration-color: #008000\">Completed</span>('All states completed.')\n",
       "</pre>\n"
      ],
      "text/plain": [
       "22:15:05.358 | \u001b[36mINFO\u001b[0m    | Action run 'important-zebu' - Finished in state \u001b[32mCompleted\u001b[0m('All states completed.')\n"
      ]
     },
     "metadata": {},
     "output_type": "display_data"
    },
    {
     "data": {
      "text/plain": [
       "[Completed(message=None, type=COMPLETED, result=UnpersistedResult(type='unpersisted', artifact_type='result', artifact_description='Unpersisted result of type `list`')),\n",
       " Completed(message=None, type=COMPLETED, result=UnpersistedResult(type='unpersisted', artifact_type='result', artifact_description='Unpersisted result of type `tuple`'))]"
      ]
     },
     "execution_count": 4,
     "metadata": {},
     "output_type": "execute_result"
    }
   ],
   "source": [
    "@action(name=f'Execution: Prediction with ONNX', log_prints=True )\n",
    "def execution():\n",
    "    origin_input = \"36.6\tno\tno\tyes\tyes\tyes\"\n",
    "    prep_input = preprocess_input(origin_input)\n",
    "    print(\"prep_input\",prep_input)\n",
    "    (predicted_digit,predicted_probs) = prediction(prep_input, MODEL_ID, VERSION_ID)\n",
    "    print(\"Prediction output:\", predicted_digit, predicted_probs)\n",
    "    # print(f\"Predicted result: {prediction_result_dict[predicted_digit]}\")\n",
    "    return predicted_digit\n",
    "\n",
    "execution()"
   ]
  }
 ],
 "metadata": {
  "kernelspec": {
   "display_name": "Python 3 (ipykernel)",
   "language": "python",
   "name": "python3"
  },
  "language_info": {
   "codemirror_mode": {
    "name": "ipython",
    "version": 3
   },
   "file_extension": ".py",
   "mimetype": "text/x-python",
   "name": "python",
   "nbconvert_exporter": "python",
   "pygments_lexer": "ipython3",
   "version": "3.11.5"
  }
 },
 "nbformat": 4,
 "nbformat_minor": 5
}
